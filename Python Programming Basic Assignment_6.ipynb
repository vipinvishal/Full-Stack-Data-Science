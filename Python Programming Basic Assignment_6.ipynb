{
 "cells": [
  {
   "cell_type": "markdown",
   "metadata": {},
   "source": [
    "1. Write a Python Program to Display Fibonacci Sequence Using Recursion?"
   ]
  },
  {
   "cell_type": "code",
   "execution_count": 4,
   "metadata": {},
   "outputs": [
    {
     "name": "stdout",
     "output_type": "stream",
     "text": [
      "Enter the number of terms: 10\n",
      "1\n",
      "1\n",
      "2\n",
      "3\n",
      "5\n",
      "8\n",
      "13\n",
      "21\n",
      "34\n",
      "55\n"
     ]
    }
   ],
   "source": [
    "def fibo(i):\n",
    "    if i <=1:\n",
    "        return i\n",
    "    else:\n",
    "        return (fibo(i-1) + fibo(i-2))\n",
    "\n",
    "n=int(input(\"Enter the number of terms: \"))\n",
    "\n",
    "if n == 0:\n",
    "    print(\"Enter the positive number\")\n",
    "else:\n",
    "    for i in range(1,n+1):\n",
    "        print(fibo(i))\n",
    "        \n",
    "        \n"
   ]
  },
  {
   "cell_type": "markdown",
   "metadata": {},
   "source": [
    "2. Write a Python Program to Find Factorial of Number Using Recursion?"
   ]
  },
  {
   "cell_type": "code",
   "execution_count": 2,
   "metadata": {},
   "outputs": [
    {
     "name": "stdout",
     "output_type": "stream",
     "text": [
      "Enter the number to find the Factorial: 4\n"
     ]
    },
    {
     "data": {
      "text/plain": [
       "24"
      ]
     },
     "execution_count": 2,
     "metadata": {},
     "output_type": "execute_result"
    }
   ],
   "source": [
    "def fact(n):\n",
    "    if n==1:\n",
    "        return 1\n",
    "    else:\n",
    "        return (n*fact(n-1))\n",
    "    \n",
    "n=int(input(\"Enter the number to find the Factorial: \"))\n",
    "\n",
    "fact(n)"
   ]
  },
  {
   "cell_type": "markdown",
   "metadata": {},
   "source": [
    "3. Write a Python Program to calculate your Body Mass Index?"
   ]
  },
  {
   "cell_type": "code",
   "execution_count": 6,
   "metadata": {},
   "outputs": [
    {
     "name": "stdout",
     "output_type": "stream",
     "text": [
      "Enter the Height in meter:2.1\n",
      "Enter the weight in KG:50.64\n",
      "The BMI is: 11.482993197278912\n"
     ]
    }
   ],
   "source": [
    "def BMI (h,w):\n",
    "    bmi=w/(h**2)\n",
    "    return bmi\n",
    "\n",
    "\n",
    "h=float(input(\"Enter the Height in meter:\"))\n",
    "w=float(input(\"Enter the weight in KG:\"))\n",
    "\n",
    "bmi=BMI(h,w)\n",
    "print(\"The BMI is:\",bmi)\n",
    "\n",
    "\n"
   ]
  },
  {
   "cell_type": "markdown",
   "metadata": {},
   "source": [
    "4. Write a Python Program to calculate the natural logarithm of any number?"
   ]
  },
  {
   "cell_type": "code",
   "execution_count": 9,
   "metadata": {},
   "outputs": [
    {
     "name": "stdout",
     "output_type": "stream",
     "text": [
      "enter any number for natural log. calculation :6\n",
      "Natural log of 6.0 is 1.791759469228055\n"
     ]
    }
   ],
   "source": [
    "import math\n",
    "n=float(input(\"enter any number for natural log. calculation :\"))\n",
    "\n",
    "natural_log=math.log(n)\n",
    "print(\"Natural log of\",n , \"is\", natural_log)"
   ]
  },
  {
   "cell_type": "markdown",
   "metadata": {},
   "source": [
    "5. Write a Python Program for cube sum of first n natural numbers?"
   ]
  },
  {
   "cell_type": "code",
   "execution_count": 10,
   "metadata": {},
   "outputs": [
    {
     "name": "stdout",
     "output_type": "stream",
     "text": [
      "Enter the number: 5\n",
      "cube sum of first n natural numbers is  225\n"
     ]
    }
   ],
   "source": [
    "\n",
    "def sos(n):\n",
    "    sum=0\n",
    "    for i in range(1,n+1):\n",
    "        sum +=i*i*i\n",
    "    return sum\n",
    "\n",
    "n=int(input(\"Enter the number: \"))\n",
    "print(\"cube sum of first n natural numbers is \",sos(n))"
   ]
  },
  {
   "cell_type": "code",
   "execution_count": 15,
   "metadata": {},
   "outputs": [
    {
     "data": {
      "text/plain": [
       "225"
      ]
     },
     "execution_count": 15,
     "metadata": {},
     "output_type": "execute_result"
    }
   ],
   "source": [
    "sum"
   ]
  },
  {
   "cell_type": "code",
   "execution_count": null,
   "metadata": {},
   "outputs": [],
   "source": []
  }
 ],
 "metadata": {
  "kernelspec": {
   "display_name": "Python 3",
   "language": "python",
   "name": "python3"
  },
  "language_info": {
   "codemirror_mode": {
    "name": "ipython",
    "version": 3
   },
   "file_extension": ".py",
   "mimetype": "text/x-python",
   "name": "python",
   "nbconvert_exporter": "python",
   "pygments_lexer": "ipython3",
   "version": "3.8.5"
  }
 },
 "nbformat": 4,
 "nbformat_minor": 4
}
