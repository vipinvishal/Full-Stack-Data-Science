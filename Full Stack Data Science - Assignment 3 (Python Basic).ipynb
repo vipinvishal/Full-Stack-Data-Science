{
 "cells": [
  {
   "cell_type": "markdown",
   "metadata": {},
   "source": [
    "1. What are the benefits of including roles in the programmes?"
   ]
  },
  {
   "cell_type": "markdown",
   "metadata": {},
   "source": [
    "ANSWER:\n",
    "The main purpose of programming is to solve the problems and to solve it by efficiant way. Another very interesting part is that, via this we can aotomate certain thing also     "
   ]
  },
  {
   "cell_type": "markdown",
   "metadata": {},
   "source": [
    "2. When does the code in a function run: when it&#39;s specified or when it&#39;s called?\n",
    "\n",
    "ANSWER:\n",
    "The code in a function executes when the function is called"
   ]
  },
  {
   "cell_type": "markdown",
   "metadata": {},
   "source": [
    "3. What statement causes a feature to be created?\n",
    "\n",
    "ANSWER:\n"
   ]
  },
  {
   "cell_type": "markdown",
   "metadata": {},
   "source": [
    "4. What is the distinction between a function and a call to a function?\n",
    "\n",
    "ANSWER:\n",
    "A function means to define the small module/program and its action.\n",
    "and call to funcation, is that when we call that function somewhere in main program with some value to perform the task defined inside the function with given new values."
   ]
  },
  {
   "cell_type": "markdown",
   "metadata": {},
   "source": [
    "5. In a Python application, how many global scopes are there? How many local scopes are there?\n",
    "\n",
    "ANSWER:\n",
    "there is only one Global scopes and one local."
   ]
  },
  {
   "cell_type": "markdown",
   "metadata": {},
   "source": [
    "6. When a function call returns, what happens to variables in the local scope?\n",
    "\n",
    "ANSWER:\n",
    "Local variables are created when the function has started execution and is lost when the function terminates, "
   ]
  },
  {
   "cell_type": "markdown",
   "metadata": {},
   "source": [
    "7. What is the concept of a return value? Is it possible to have a return value in an expression?\n",
    "\n",
    "ANSWER:\n",
    "It is used to end the excuation ans return the final value from the code written inside the funcation. YEs we can have return values in an expression.\n"
   ]
  },
  {
   "cell_type": "markdown",
   "metadata": {},
   "source": [
    "8. What is the return value of a call to a function that does not have a return statement?\n",
    "\n",
    "ANSWER:\n",
    "IT will return nothing,as the funation is not using return method."
   ]
  },
  {
   "cell_type": "markdown",
   "metadata": {},
   "source": [
    "9. How do you make a function variable refer to the global variable?\n",
    "\n",
    "ANSWER:\n",
    "by using 'global' keyword we can use to declare which variables are global."
   ]
  },
  {
   "cell_type": "markdown",
   "metadata": {},
   "source": [
    "10. What data form does None belong to?\n",
    "\n",
    "ANSWER:\n",
    "None type"
   ]
  },
  {
   "cell_type": "markdown",
   "metadata": {},
   "source": [
    "11. What does the sentence import areallyourpetsnamederic do?\n",
    "\n",
    "ANSWER:\n",
    "It will import all the files/code from areallyourpetsnamederic, and excute it on local IDE for further process.\n"
   ]
  },
  {
   "cell_type": "markdown",
   "metadata": {},
   "source": [
    "12. If you had a bacon() feature in a spam module, what would you call it after importing spam?\n",
    "\n",
    "ANSWER:\n",
    "spam.bacon()"
   ]
  },
  {
   "cell_type": "markdown",
   "metadata": {},
   "source": [
    "13. What can you do to save a programme from crashing if it encounters an error?\n",
    "\n",
    "ANSWER:\n",
    "We ca use try and except to check the errors, and prevent our program from crashing  "
   ]
  },
  {
   "cell_type": "markdown",
   "metadata": {},
   "source": [
    "14. What is the purpose of the try clause? What is the purpose of the except clause?\n",
    "ANSWER:\n",
    "\n",
    "The try block lets you test a block of code for errors. The except block lets you handle the error."
   ]
  },
  {
   "cell_type": "code",
   "execution_count": null,
   "metadata": {},
   "outputs": [],
   "source": []
  }
 ],
 "metadata": {
  "kernelspec": {
   "display_name": "Python 3",
   "language": "python",
   "name": "python3"
  },
  "language_info": {
   "codemirror_mode": {
    "name": "ipython",
    "version": 3
   },
   "file_extension": ".py",
   "mimetype": "text/x-python",
   "name": "python",
   "nbconvert_exporter": "python",
   "pygments_lexer": "ipython3",
   "version": "3.8.5"
  }
 },
 "nbformat": 4,
 "nbformat_minor": 4
}
